{
  "cells": [
    {
      "attachments": {},
      "cell_type": "markdown",
      "metadata": {},
      "source": [
        "\n",
        "# Demo for prediction using number of trees\n"
      ]
    },
    {
      "cell_type": "code",
      "execution_count": 2,
      "metadata": {
        "collapsed": false
      },
      "outputs": [
        {
          "ename": "ModuleNotFoundError",
          "evalue": "No module named 'xgboost'",
          "output_type": "error",
          "traceback": [
            "\u001b[0;31m---------------------------------------------------------------------------\u001b[0m",
            "\u001b[0;31mModuleNotFoundError\u001b[0m                       Traceback (most recent call last)",
            "Cell \u001b[0;32mIn[2], line 3\u001b[0m\n\u001b[1;32m      1\u001b[0m \u001b[39mimport\u001b[39;00m \u001b[39mos\u001b[39;00m\n\u001b[1;32m      2\u001b[0m \u001b[39mimport\u001b[39;00m \u001b[39mnumpy\u001b[39;00m \u001b[39mas\u001b[39;00m \u001b[39mnp\u001b[39;00m\n\u001b[0;32m----> 3\u001b[0m \u001b[39mimport\u001b[39;00m \u001b[39mxgboost\u001b[39;00m \u001b[39mas\u001b[39;00m \u001b[39mxgb\u001b[39;00m\n\u001b[1;32m      4\u001b[0m \u001b[39mfrom\u001b[39;00m \u001b[39msklearn\u001b[39;00m\u001b[39m.\u001b[39;00m\u001b[39mdatasets\u001b[39;00m \u001b[39mimport\u001b[39;00m load_svmlight_file\n\u001b[1;32m      6\u001b[0m CURRENT_DIR \u001b[39m=\u001b[39m os\u001b[39m.\u001b[39mpath\u001b[39m.\u001b[39mdirname(\u001b[39m__file__\u001b[39m)\n",
            "\u001b[0;31mModuleNotFoundError\u001b[0m: No module named 'xgboost'"
          ]
        }
      ],
      "source": [
        "import os\n",
        "import numpy as np\n",
        "import xgboost as xgb\n",
        "from sklearn.datasets import load_svmlight_file\n",
        "\n",
        "CURRENT_DIR = os.path.dirname(__file__)\n",
        "train = os.path.join(CURRENT_DIR, \"./agaricus.txt.train\")\n",
        "test = os.path.join(CURRENT_DIR, \"./agaricus.txt.test\")\n",
        "\n",
        "\n",
        "def native_interface():\n",
        "    # load data in do training\n",
        "    dtrain = xgb.DMatrix(train)\n",
        "    dtest = xgb.DMatrix(test)\n",
        "    param = {\"max_depth\": 2, \"eta\": 1, \"objective\": \"binary:logistic\"}\n",
        "    watchlist = [(dtest, \"eval\"), (dtrain, \"train\")]\n",
        "    num_round = 3\n",
        "    bst = xgb.train(param, dtrain, num_round, watchlist)\n",
        "\n",
        "    print(\"start testing prediction from first n trees\")\n",
        "    # predict using first 1 tree\n",
        "    label = dtest.get_label()\n",
        "    ypred1 = bst.predict(dtest, iteration_range=(0, 1))\n",
        "    # by default, we predict using all the trees\n",
        "    ypred2 = bst.predict(dtest)\n",
        "\n",
        "    print(\"error of ypred1=%f\" % (np.sum((ypred1 > 0.5) != label) / float(len(label))))\n",
        "    print(\"error of ypred2=%f\" % (np.sum((ypred2 > 0.5) != label) / float(len(label))))\n",
        "\n",
        "\n",
        "def sklearn_interface():\n",
        "    X_train, y_train = load_svmlight_file(train)\n",
        "    X_test, y_test = load_svmlight_file(test)\n",
        "    clf = xgb.XGBClassifier(n_estimators=3, max_depth=2, eta=1)\n",
        "    clf.fit(X_train, y_train, eval_set=[(X_test, y_test)])\n",
        "    assert clf.n_classes_ == 2\n",
        "\n",
        "    print(\"start testing prediction from first n trees\")\n",
        "    # predict using first 1 tree\n",
        "    ypred1 = clf.predict(X_test, iteration_range=(0, 1))\n",
        "    # by default, we predict using all the trees\n",
        "    ypred2 = clf.predict(X_test)\n",
        "\n",
        "    print(\n",
        "        \"error of ypred1=%f\" % (np.sum((ypred1 > 0.5) != y_test) / float(len(y_test)))\n",
        "    )\n",
        "    print(\n",
        "        \"error of ypred2=%f\" % (np.sum((ypred2 > 0.5) != y_test) / float(len(y_test)))\n",
        "    )\n",
        "\n",
        "\n",
        "if __name__ == \"__main__\":\n",
        "    native_interface()\n",
        "    sklearn_interface()"
      ]
    }
  ],
  "metadata": {
    "kernelspec": {
      "display_name": "Python 3",
      "language": "python",
      "name": "python3"
    },
    "language_info": {
      "codemirror_mode": {
        "name": "ipython",
        "version": 3
      },
      "file_extension": ".py",
      "mimetype": "text/x-python",
      "name": "python",
      "nbconvert_exporter": "python",
      "pygments_lexer": "ipython3",
      "version": "3.11.3"
    }
  },
  "nbformat": 4,
  "nbformat_minor": 0
}
